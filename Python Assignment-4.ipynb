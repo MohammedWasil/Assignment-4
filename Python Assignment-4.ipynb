{
 "cells": [
  {
   "cell_type": "markdown",
   "id": "dd13c0e3",
   "metadata": {},
   "source": [
    "# PW Skills Data Science Masters \n",
    "## Python Assignment- 4"
   ]
  },
  {
   "cell_type": "markdown",
   "id": "01afbfaa",
   "metadata": {},
   "source": [
    "##### Ques.1- Which keyword is used to create  function? Create a function to return a list of odd numbers in the  range from 1 to 25.\n",
    "##### Ans- def keyword is used to craete a function in python.\n"
   ]
  },
  {
   "cell_type": "code",
   "execution_count": 1,
   "id": "a8241f05",
   "metadata": {},
   "outputs": [
    {
     "data": {
      "text/plain": [
       "[1, 3, 5, 7, 9, 11, 13, 15, 17, 19, 21, 23, 25]"
      ]
     },
     "execution_count": 1,
     "metadata": {},
     "output_type": "execute_result"
    }
   ],
   "source": [
    "#Function to return a list of odd numbers in the  range from 1 to 25.\n",
    "def odd_numbers():\n",
    "    n=[]\n",
    "    for i in range(1,26):\n",
    "        if(i%2)!=0:\n",
    "            n.append(i)\n",
    "    return n\n",
    "odd_numbers()"
   ]
  },
  {
   "cell_type": "code",
   "execution_count": null,
   "id": "7a6e3b66",
   "metadata": {},
   "outputs": [],
   "source": []
  },
  {
   "cell_type": "markdown",
   "id": "6c75d8aa",
   "metadata": {},
   "source": [
    "##### Ques. 2- Why *args and **kwargs is used in some functions? Create a function each for *args and **kwargs to demonstrate their use.\n",
    "###### Ans:- *args and **kwargs  is used in some funtiion because they allow us to pass multiple arguments or keyword arguments to a function."
   ]
  },
  {
   "cell_type": "code",
   "execution_count": 2,
   "id": "276fe64f",
   "metadata": {},
   "outputs": [
    {
     "name": "stdout",
     "output_type": "stream",
     "text": [
      "6\n"
     ]
    }
   ],
   "source": [
    "# Use of *args\n",
    "def my_sum(*integers):\n",
    "    result = 0\n",
    "    for i in integers:\n",
    "        result =result+ i\n",
    "    return result\n",
    "\n",
    "print(my_sum(1, 2, 3))"
   ]
  },
  {
   "cell_type": "code",
   "execution_count": 3,
   "id": "5d4fe59c",
   "metadata": {},
   "outputs": [
    {
     "name": "stdout",
     "output_type": "stream",
     "text": [
      "{'kwargs_1': 'Shark', 'kwargs_2': 4.5, 'kwargs_3': True}\n"
     ]
    }
   ],
   "source": [
    "# Use of **kwargs\n",
    "def print_kwargs(**kwargs):\n",
    "        print(kwargs)\n",
    "\n",
    "print_kwargs(kwargs_1=\"Shark\", kwargs_2=4.5, kwargs_3=True)"
   ]
  },
  {
   "cell_type": "code",
   "execution_count": null,
   "id": "56133cc5",
   "metadata": {},
   "outputs": [],
   "source": []
  },
  {
   "cell_type": "markdown",
   "id": "3d87e9f5",
   "metadata": {},
   "source": [
    "##### Ques.3- What is an iterator in python? Name the method used to initialize the iterator object and the method used for iteration. Use these methods to print the first five elements of given list [2,4,6,8,10,12,14,16,18,22].\n",
    "##### Ans:- Iterator:-  Iterator in Python is an object that is used to iterate over iterable objects like lists, tuples, dicts, and sets. The iterator object is initialized using the iter() method. It uses the next() method for iteration\n",
    "#####   The iter() method is used to initialized the iterator object and it uses the next() method for iteration."
   ]
  },
  {
   "cell_type": "code",
   "execution_count": 4,
   "id": "2d7eeda1",
   "metadata": {},
   "outputs": [
    {
     "name": "stdout",
     "output_type": "stream",
     "text": [
      "2\n",
      "4\n",
      "6\n",
      "8\n",
      "10\n"
     ]
    }
   ],
   "source": [
    "# To print the first five elements of given list\n",
    "list=iter([2,4,6,8,10,12,14,16,18,22])\n",
    "print(next(list))\n",
    "print(next(list))\n",
    "print(next(list))\n",
    "print(next(list))\n",
    "print(next(list))"
   ]
  },
  {
   "cell_type": "code",
   "execution_count": null,
   "id": "09f8c600",
   "metadata": {},
   "outputs": [],
   "source": []
  },
  {
   "cell_type": "markdown",
   "id": "2960b191",
   "metadata": {},
   "source": [
    "##### Ques.4- What is  a generator function in python? Why yield keyword is used? Give an example of a generator function.\n",
    "##### Ans:- A generator-function is defined like a normal function, but whenever it needs to generate a value, it does so with the yield keyword rather than return. If the body of a def contains yield, the function automatically becomes a generator function. \n",
    "#####  The yield keyword in Python controls the flow of a generator function. This is similar to a return statement used for returning values "
   ]
  },
  {
   "cell_type": "code",
   "execution_count": 5,
   "id": "6eac01c4",
   "metadata": {},
   "outputs": [
    {
     "name": "stdout",
     "output_type": "stream",
     "text": [
      "0\n",
      "1\n",
      "2\n",
      "3\n",
      "4\n",
      "5\n",
      "6\n",
      "7\n",
      "8\n",
      "9\n"
     ]
    }
   ],
   "source": [
    "#EXample\n",
    "def fib(n):\n",
    "    a,b=0,1\n",
    "    for i in range(n):\n",
    "        yield a\n",
    "        a,b=b,a+b\n",
    "for i in range(10):\n",
    "    print(i)"
   ]
  },
  {
   "cell_type": "code",
   "execution_count": null,
   "id": "a4222b28",
   "metadata": {},
   "outputs": [],
   "source": []
  },
  {
   "cell_type": "markdown",
   "id": "42996355",
   "metadata": {},
   "source": [
    "##### Ques.5- Create a generator function for prime numbers less than 1000. Use the next() method to print the first 20 prime numbers."
   ]
  },
  {
   "cell_type": "code",
   "execution_count": 6,
   "id": "e3d8cd4f",
   "metadata": {},
   "outputs": [
    {
     "name": "stdout",
     "output_type": "stream",
     "text": [
      "2\n",
      "3\n",
      "5\n",
      "7\n",
      "11\n",
      "13\n",
      "17\n",
      "19\n",
      "23\n",
      "29\n",
      "31\n",
      "37\n",
      "41\n",
      "43\n",
      "47\n",
      "53\n",
      "59\n",
      "61\n",
      "67\n",
      "71\n"
     ]
    }
   ],
   "source": [
    "def primeGenerator():\n",
    "    for i in range(2,1000):\n",
    "        isprime=True\n",
    "        for j in range(2,i//2+1):\n",
    "            if i%j==0:\n",
    "                isprime = False\n",
    "                break\n",
    "        if isprime:\n",
    "            yield i\n",
    "x= primeGenerator()\n",
    "for i in range(20):\n",
    "    print(next(x))"
   ]
  },
  {
   "cell_type": "code",
   "execution_count": null,
   "id": "20cffb2e",
   "metadata": {},
   "outputs": [],
   "source": []
  }
 ],
 "metadata": {
  "kernelspec": {
   "display_name": "Python 3 (ipykernel)",
   "language": "python",
   "name": "python3"
  },
  "language_info": {
   "codemirror_mode": {
    "name": "ipython",
    "version": 3
   },
   "file_extension": ".py",
   "mimetype": "text/x-python",
   "name": "python",
   "nbconvert_exporter": "python",
   "pygments_lexer": "ipython3",
   "version": "3.9.13"
  }
 },
 "nbformat": 4,
 "nbformat_minor": 5
}
